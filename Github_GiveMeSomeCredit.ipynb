{
 "cells": [
  {
   "cell_type": "markdown",
   "metadata": {},
   "source": [
    "# PROJET : GIVE ME SOME CREDIT\n",
    "\n",
    "### Objectif\n",
    "\n",
    "Améliorez l'état de l'art en matière de *notation de crédit* en ***prédisant la probabilité qu'une personne éprouve des difficultés financières au cours des deux prochaines années et ne rembourse pas son crédit***.\n",
    "\n",
    "\n",
    "downloader de kaggle\n",
    "\"GiveMeSomeCredit\" https://www.kaggle.com/c/GiveMeSomeCredit/overview"
   ]
  },
  {
   "cell_type": "markdown",
   "metadata": {},
   "source": [
    "### Contexte\n",
    "\n",
    "Les banques jouent un rôle crucial dans les économies de marché. Ils décident qui peut obtenir des financements et à quelles conditions et peuvent prendre ou arrêter des décisions d'investissement. Pour que les marchés et la société fonctionnent, les particuliers et les entreprises doivent avoir accès au crédit.\n",
    "\n",
    "Les algorithmes de notation du crédit, qui permettent de deviner la probabilité de défaut, sont la méthode utilisée par les banques pour déterminer si un prêt doit être accordé ou non. \n",
    "\n",
    "Le but de ce projet est de construire un modèle que les emprunteurs peuvent utiliser pour prendre les meilleures décisions financières.\n",
    "\n",
    "Des données historiques sont fournies sur 250 000 emprunteurs."
   ]
  },
  {
   "cell_type": "markdown",
   "metadata": {},
   "source": [
    "### Périmètre\n",
    "\n",
    "Données issues de Kaggle de :\n",
    "- 250 000 clients de banque\n",
    "- 3 fichiers transmis :\n",
    "  - 1 fichier training pour développer et améliorer le modèle\n",
    "  - 1 fichier test pour tester le modèle réalisé\n",
    "  - 1 fichier incluant le score / notation des clients (%)"
   ]
  },
  {
   "cell_type": "markdown",
   "metadata": {},
   "source": [
    "## I/ DEFINITION DES OBJECTIFS (SMART)\n",
    "\n",
    "- <b>Objectif</b> : Tenter de prédire / identifier les personnes qui seront en difficultés dans 2 ans à partir des données actuelles\n",
    "- <b>Metrique</b> : 90% d'exactitude, R2 proche de 1, Pas d'Overfitting"
   ]
  },
  {
   "cell_type": "markdown",
   "metadata": {},
   "source": [
    "------"
   ]
  },
  {
   "cell_type": "markdown",
   "metadata": {},
   "source": [
    "# II/ EDA (EXPLORATY DATA ANALYSIS)\n",
    "\n",
    "Objectif: comprendre au maximum les données dont on dispose pour définir une stratégie de modélisation.\n",
    "\n",
    " ## 1 - Analyse de la forme\n",
    "- **Identification de la target** : \"SeriousDlqin2yrs\" \n",
    "  - 1 = défaut pendant plus de 90 jours au cours des deux dernières années\n",
    "  - 0 = pas de défaut pendant plus de 90 jours au cours des deux dernières années\n",
    "- **Nombre des lignes et de colonnes** : Training set (150000 lignes, 11 colonnes), Test set (101503 lignes, 11 colonnes) \n",
    "- **Identification des valeurs manquantes**\n",
    "  - Il existe des valeurs manquantes \n",
    "    - MonthlyIncome (salaire mensuel) : 20% de valeurs manquantes\n",
    "    - NumberOfDependents (nombre de personnes à charge) : 2% de valeurs manquantes\n",
    "- **Types de variables**\n",
    "  - Les variables sont de type Float et Int : Des variables numériques. Pas de variables catégoriques\n",
    "\n",
    "## 2 - Analyse du fond:\n",
    "- **Visualisation de la target (histogramme/boxplot/Valeurs statistiques)**\n",
    "  - positive_df = 6% du dataset ont été en défaut durant les deux dernières années\n",
    "  - negative_df = 94% ne sont pas en défaut\n",
    " \n",
    "- **Compréhension des différentes variables (recherche)**\n",
    "  - Variables de type float\n",
    "    - RevolvingUtilizationOfUnsecuredLines: Un très grand nombre de client un très peu de disponibilité sur leur carte de crédit\n",
    "    - DebtRatio : ratio majoritairement autour de la moyenne. Mais il existe des valeurs très élevées et éloinées des valeurs moyennes\n",
    "    - \n",
    "    \n",
    "- **Visualisation des relations (features/target)**\n",
    "  - Ma matrice des corrélation indique une corrélation positive entre les défauts au bout de 2 années et le nombre de fois les incidents apparaissent (soit 30% au total). A cela, l'on pourrait rajouter le nombre de personnes à charge (NumberOfDependents) à raison de 4%\n",
    "  - L'âge impact négativement le risque d'incident => plus l'âge croît, moins les clients sont susceptibles\n",
    "            - age                                    -0.115001\n",
    "            - NumberOfOpenCreditLinesAndLoans        -0.030126\n",
    "            - MonthlyIncome                          -0.020472\n",
    "            - NumberRealEstateLoansOrLines           -0.009846\n",
    "            - DebtRatio                              -0.006274\n",
    "            - RevolvingUtilizationOfUnsecuredLines   -0.003068\n",
    "            - Probability                             0.005021\n",
    "            - NumberOfDependents                      0.040088\n",
    "            - NumberOfTime60-89DaysPastDueNotWorse    0.096983\n",
    "            - NumberOfTimes90DaysLate                 0.111450\n",
    "            - NumberOfTime30-59DaysPastDueNotWorse    0.119908\n",
    "   - Les variables dont la corrélation inférieur à 1% seront enlevées de notre dataset (NumberRealEstateLoansOrLines, DebtRatio, RevolvingUtilizationOfUnsecuredLines, Probability) \n",
    "                   - => ***La notation interne n'est nullement corrélé avec le défaut du client dans 2 ans***      \n",
    "\n",
    "- **Identification des outliers**\n",
    "  - RevolvingUtilizationOfUnsecuredLines : présence de plusieurs outliers chez les clients dont le SeriousDlqin2yrs = 0"
   ]
  },
  {
   "cell_type": "code",
   "execution_count": 1,
   "metadata": {},
   "outputs": [],
   "source": [
    "# Vous devez installer imblearn\n",
    "## la commade pip install sous winddows telque mentionné ci-dessous\n",
    "#pip install imblearn"
   ]
  },
  {
   "cell_type": "code",
   "execution_count": 2,
   "metadata": {},
   "outputs": [],
   "source": [
    "#Import des livrairies\n",
    "import pandas as pd\n",
    "import numpy as np\n",
    "import matplotlib.pyplot as plt\n",
    "from matplotlib.pyplot import *\n",
    "import seaborn as sns\n",
    "\n",
    "from imblearn.over_sampling import SMOTE\n",
    "from imblearn.pipeline import Pipeline\n",
    "\n",
    "\n",
    "from sklearn.linear_model import LinearRegression, LogisticRegression, SGDClassifier\n",
    "from sklearn.ensemble import BaggingClassifier, RandomForestClassifier\n",
    "from sklearn.ensemble import AdaBoostClassifier, GradientBoostingClassifier\n",
    "from sklearn.neighbors import KNeighborsClassifier\n",
    "\n",
    "#Import des métrics\n",
    "from sklearn.metrics import r2_score, classification_report, confusion_matrix\n",
    "from sklearn.metrics import accuracy_score, roc_auc_score, roc_curve\n",
    "from sklearn.metrics import precision_recall_curve, average_precision_score\n",
    "from sklearn.metrics import homogeneity_score, silhouette_score\n",
    "\n",
    "\n",
    "from sklearn.feature_selection import SelectFromModel, RFE, RFECV\n",
    "from sklearn.model_selection import RandomizedSearchCV, StratifiedShuffleSplit,GridSearchCV"
   ]
  },
  {
   "cell_type": "code",
   "execution_count": 3,
   "metadata": {},
   "outputs": [],
   "source": [
    "\n",
    "#import des fichier\n",
    "dataset = pd.read_csv(\"cs-training.csv\")\n",
    "data_test = pd.read_csv(\"cs-test.csv\")\n",
    "data_score=pd.read_csv(\"sampleEntry.csv\")"
   ]
  },
  {
   "cell_type": "markdown",
   "metadata": {},
   "source": [
    "### Analyse de la forme des données"
   ]
  },
  {
   "cell_type": "code",
   "execution_count": 4,
   "metadata": {},
   "outputs": [
    {
     "data": {
      "text/plain": [
       "(150000, 12)"
      ]
     },
     "execution_count": 4,
     "metadata": {},
     "output_type": "execute_result"
    }
   ],
   "source": [
    "# Connaitre le nombre de lignes et de colonnes\n",
    "dataset.shape"
   ]
  },
  {
   "cell_type": "code",
   "execution_count": 5,
   "metadata": {},
   "outputs": [
    {
     "data": {
      "text/html": [
       "<div>\n",
       "<style scoped>\n",
       "    .dataframe tbody tr th:only-of-type {\n",
       "        vertical-align: middle;\n",
       "    }\n",
       "\n",
       "    .dataframe tbody tr th {\n",
       "        vertical-align: top;\n",
       "    }\n",
       "\n",
       "    .dataframe thead th {\n",
       "        text-align: right;\n",
       "    }\n",
       "</style>\n",
       "<table border=\"1\" class=\"dataframe\">\n",
       "  <thead>\n",
       "    <tr style=\"text-align: right;\">\n",
       "      <th></th>\n",
       "      <th>Unnamed: 0</th>\n",
       "      <th>SeriousDlqin2yrs</th>\n",
       "      <th>RevolvingUtilizationOfUnsecuredLines</th>\n",
       "      <th>age</th>\n",
       "      <th>NumberOfTime30-59DaysPastDueNotWorse</th>\n",
       "      <th>DebtRatio</th>\n",
       "      <th>MonthlyIncome</th>\n",
       "      <th>NumberOfOpenCreditLinesAndLoans</th>\n",
       "      <th>NumberOfTimes90DaysLate</th>\n",
       "      <th>NumberRealEstateLoansOrLines</th>\n",
       "      <th>NumberOfTime60-89DaysPastDueNotWorse</th>\n",
       "      <th>NumberOfDependents</th>\n",
       "    </tr>\n",
       "  </thead>\n",
       "  <tbody>\n",
       "    <tr>\n",
       "      <th>0</th>\n",
       "      <td>1</td>\n",
       "      <td>1</td>\n",
       "      <td>0.766127</td>\n",
       "      <td>45</td>\n",
       "      <td>2</td>\n",
       "      <td>0.802982</td>\n",
       "      <td>9120.0</td>\n",
       "      <td>13</td>\n",
       "      <td>0</td>\n",
       "      <td>6</td>\n",
       "      <td>0</td>\n",
       "      <td>2.0</td>\n",
       "    </tr>\n",
       "    <tr>\n",
       "      <th>1</th>\n",
       "      <td>2</td>\n",
       "      <td>0</td>\n",
       "      <td>0.957151</td>\n",
       "      <td>40</td>\n",
       "      <td>0</td>\n",
       "      <td>0.121876</td>\n",
       "      <td>2600.0</td>\n",
       "      <td>4</td>\n",
       "      <td>0</td>\n",
       "      <td>0</td>\n",
       "      <td>0</td>\n",
       "      <td>1.0</td>\n",
       "    </tr>\n",
       "    <tr>\n",
       "      <th>2</th>\n",
       "      <td>3</td>\n",
       "      <td>0</td>\n",
       "      <td>0.658180</td>\n",
       "      <td>38</td>\n",
       "      <td>1</td>\n",
       "      <td>0.085113</td>\n",
       "      <td>3042.0</td>\n",
       "      <td>2</td>\n",
       "      <td>1</td>\n",
       "      <td>0</td>\n",
       "      <td>0</td>\n",
       "      <td>0.0</td>\n",
       "    </tr>\n",
       "    <tr>\n",
       "      <th>3</th>\n",
       "      <td>4</td>\n",
       "      <td>0</td>\n",
       "      <td>0.233810</td>\n",
       "      <td>30</td>\n",
       "      <td>0</td>\n",
       "      <td>0.036050</td>\n",
       "      <td>3300.0</td>\n",
       "      <td>5</td>\n",
       "      <td>0</td>\n",
       "      <td>0</td>\n",
       "      <td>0</td>\n",
       "      <td>0.0</td>\n",
       "    </tr>\n",
       "    <tr>\n",
       "      <th>4</th>\n",
       "      <td>5</td>\n",
       "      <td>0</td>\n",
       "      <td>0.907239</td>\n",
       "      <td>49</td>\n",
       "      <td>1</td>\n",
       "      <td>0.024926</td>\n",
       "      <td>63588.0</td>\n",
       "      <td>7</td>\n",
       "      <td>0</td>\n",
       "      <td>1</td>\n",
       "      <td>0</td>\n",
       "      <td>0.0</td>\n",
       "    </tr>\n",
       "  </tbody>\n",
       "</table>\n",
       "</div>"
      ],
      "text/plain": [
       "   Unnamed: 0  SeriousDlqin2yrs  RevolvingUtilizationOfUnsecuredLines  age  \\\n",
       "0           1                 1                              0.766127   45   \n",
       "1           2                 0                              0.957151   40   \n",
       "2           3                 0                              0.658180   38   \n",
       "3           4                 0                              0.233810   30   \n",
       "4           5                 0                              0.907239   49   \n",
       "\n",
       "   NumberOfTime30-59DaysPastDueNotWorse  DebtRatio  MonthlyIncome  \\\n",
       "0                                     2   0.802982         9120.0   \n",
       "1                                     0   0.121876         2600.0   \n",
       "2                                     1   0.085113         3042.0   \n",
       "3                                     0   0.036050         3300.0   \n",
       "4                                     1   0.024926        63588.0   \n",
       "\n",
       "   NumberOfOpenCreditLinesAndLoans  NumberOfTimes90DaysLate  \\\n",
       "0                               13                        0   \n",
       "1                                4                        0   \n",
       "2                                2                        1   \n",
       "3                                5                        0   \n",
       "4                                7                        0   \n",
       "\n",
       "   NumberRealEstateLoansOrLines  NumberOfTime60-89DaysPastDueNotWorse  \\\n",
       "0                             6                                     0   \n",
       "1                             0                                     0   \n",
       "2                             0                                     0   \n",
       "3                             0                                     0   \n",
       "4                             1                                     0   \n",
       "\n",
       "   NumberOfDependents  \n",
       "0                 2.0  \n",
       "1                 1.0  \n",
       "2                 0.0  \n",
       "3                 0.0  \n",
       "4                 0.0  "
      ]
     },
     "execution_count": 5,
     "metadata": {},
     "output_type": "execute_result"
    }
   ],
   "source": [
    "dataset.head()"
   ]
  },
  {
   "cell_type": "markdown",
   "metadata": {},
   "source": [
    "***Inclure les notation ou score des clients et suppression des colonnes non utiles*** (Id)"
   ]
  },
  {
   "cell_type": "code",
   "execution_count": 6,
   "metadata": {
    "scrolled": true
   },
   "outputs": [],
   "source": [
    "#jointure des dataset pour inclure le score\n",
    "dataset= pd.merge(dataset, data_score, \n",
    "                  left_on='Unnamed: 0', right_on='Id',how='inner')\n",
    "\n",
    "#suppression des colonnes inutiles\n",
    "dataset=dataset.drop(columns =['Unnamed: 0','Id'],axis=1)"
   ]
  },
  {
   "cell_type": "code",
   "execution_count": 7,
   "metadata": {},
   "outputs": [
    {
     "data": {
      "text/plain": [
       "<matplotlib.axes._subplots.AxesSubplot at 0x2b25513c5c8>"
      ]
     },
     "execution_count": 7,
     "metadata": {},
     "output_type": "execute_result"
    },
    {
     "data": {
      "image/png": "[encoded data removed]",
      "text/plain": [
       "<Figure size 720x360 with 2 Axes>"
      ]
     },
     "metadata": {
      "needs_background": "light"
     },
     "output_type": "display_data"
    }
   ],
   "source": [
    "# Déterminer si le dataset contient des valeurs manquantes (gestion des valeurs manquantes)\n",
    "## Voir s'il y a des valeurs manquantes\n",
    "dataset.isnull().any()\n",
    "\n",
    "# Gestion des valeurs manquantes\n",
    "## connaitres le pourcentage des valeurs manquantes / triée avec l'attribut sort_values\n",
    "(dataset.isnull().sum()/len(dataset)).sort_values(ascending=False)\n",
    "\n",
    "# Visualisation des valeurs manquantes\n",
    "## La taille de la figure peut être modifiée par exemple\n",
    "plt.figure(figsize=(10,5))\n",
    "sns.heatmap(dataset.isna(), cmap=\"plasma\")"
   ]
  },
  {
   "cell_type": "code",
   "execution_count": 8,
   "metadata": {},
   "outputs": [
    {
     "data": {
      "text/plain": [
       "<matplotlib.axes._subplots.AxesSubplot at 0x2b2565d2e88>"
      ]
     },
     "execution_count": 8,
     "metadata": {},
     "output_type": "execute_result"
    },
    {
     "data": {
      "image/png": "[encoded data removed]",
      "text/plain": [
       "<Figure size 432x288 with 1 Axes>"
      ]
     },
     "metadata": {},
     "output_type": "display_data"
    }
   ],
   "source": [
    "#Type de variables\n",
    "dataset.dtypes.value_counts().plot.pie()"
   ]
  },
  {
   "cell_type": "markdown",
   "metadata": {},
   "source": [
    "### Analyse du fond du dataset"
   ]
  },
  {
   "cell_type": "markdown",
   "metadata": {},
   "source": [
    "***Information sur le dataset***"
   ]
  },
  {
   "cell_type": "code",
   "execution_count": 9,
   "metadata": {},
   "outputs": [],
   "source": [
    "#Information sur le crédit\n",
    "use_credit_card=dataset['RevolvingUtilizationOfUnsecuredLines']\n",
    "proba=dataset['Probability']\n",
    "DebtRatio=dataset['DebtRatio']\n",
    "credit_open=dataset['NumberOfOpenCreditLinesAndLoans']\n",
    "credit_immo=dataset['NumberRealEstateLoansOrLines']\n",
    "\n",
    "#Information sur le client\n",
    "salaire=dataset['MonthlyIncome']\n",
    "age=dataset['age']\n",
    "nbDependents=dataset['NumberOfDependents']\n",
    "\n",
    "\n",
    "#Nombre de l'incident de remboursement en durée\n",
    "nb59Days=dataset['NumberOfTime30-59DaysPastDueNotWorse']\n",
    "nb89Days=dataset['NumberOfTime60-89DaysPastDueNotWorse']\n",
    "nb90Days=dataset['NumberOfTimes90DaysLate']\n",
    "\n",
    "# Defaut de plus de 90 jours les 2 années passées\n",
    "target=dataset['SeriousDlqin2yrs']"
   ]
  },
  {
   "cell_type": "markdown",
   "metadata": {},
   "source": [
    "#### Visualisation de la target"
   ]
  },
  {
   "cell_type": "code",
   "execution_count": 10,
   "metadata": {},
   "outputs": [
    {
     "data": {
      "text/html": [
       "<div>\n",
       "<style scoped>\n",
       "    .dataframe tbody tr th:only-of-type {\n",
       "        vertical-align: middle;\n",
       "    }\n",
       "\n",
       "    .dataframe tbody tr th {\n",
       "        vertical-align: top;\n",
       "    }\n",
       "\n",
       "    .dataframe thead th {\n",
       "        text-align: right;\n",
       "    }\n",
       "</style>\n",
       "<table border=\"1\" class=\"dataframe\">\n",
       "  <thead>\n",
       "    <tr style=\"text-align: right;\">\n",
       "      <th></th>\n",
       "      <th>SeriousDlqin2yrs</th>\n",
       "      <th>RevolvingUtilizationOfUnsecuredLines</th>\n",
       "      <th>age</th>\n",
       "      <th>NumberOfTime30-59DaysPastDueNotWorse</th>\n",
       "      <th>DebtRatio</th>\n",
       "      <th>MonthlyIncome</th>\n",
       "      <th>NumberOfOpenCreditLinesAndLoans</th>\n",
       "      <th>NumberOfTimes90DaysLate</th>\n",
       "      <th>NumberRealEstateLoansOrLines</th>\n",
       "      <th>NumberOfTime60-89DaysPastDueNotWorse</th>\n",
       "      <th>NumberOfDependents</th>\n",
       "      <th>Probability</th>\n",
       "    </tr>\n",
       "  </thead>\n",
       "  <tbody>\n",
       "    <tr>\n",
       "      <th>count</th>\n",
       "      <td>101503.000000</td>\n",
       "      <td>101503.000000</td>\n",
       "      <td>101503.000000</td>\n",
       "      <td>101503.000000</td>\n",
       "      <td>101503.000000</td>\n",
       "      <td>8.140300e+04</td>\n",
       "      <td>101503.000000</td>\n",
       "      <td>101503.000000</td>\n",
       "      <td>101503.000000</td>\n",
       "      <td>101503.000000</td>\n",
       "      <td>98846.000000</td>\n",
       "      <td>101503.000000</td>\n",
       "    </tr>\n",
       "    <tr>\n",
       "      <th>mean</th>\n",
       "      <td>0.066707</td>\n",
       "      <td>6.011143</td>\n",
       "      <td>52.258840</td>\n",
       "      <td>0.425426</td>\n",
       "      <td>355.278121</td>\n",
       "      <td>6.635148e+03</td>\n",
       "      <td>8.443268</td>\n",
       "      <td>0.270366</td>\n",
       "      <td>1.019448</td>\n",
       "      <td>0.244505</td>\n",
       "      <td>0.757856</td>\n",
       "      <td>0.067664</td>\n",
       "    </tr>\n",
       "    <tr>\n",
       "      <th>std</th>\n",
       "      <td>0.249516</td>\n",
       "      <td>260.238389</td>\n",
       "      <td>14.764608</td>\n",
       "      <td>4.247678</td>\n",
       "      <td>2104.513168</td>\n",
       "      <td>1.378541e+04</td>\n",
       "      <td>5.134291</td>\n",
       "      <td>4.223509</td>\n",
       "      <td>1.129580</td>\n",
       "      <td>4.210719</td>\n",
       "      <td>1.116671</td>\n",
       "      <td>0.110445</td>\n",
       "    </tr>\n",
       "    <tr>\n",
       "      <th>min</th>\n",
       "      <td>0.000000</td>\n",
       "      <td>0.000000</td>\n",
       "      <td>0.000000</td>\n",
       "      <td>0.000000</td>\n",
       "      <td>0.000000</td>\n",
       "      <td>0.000000e+00</td>\n",
       "      <td>0.000000</td>\n",
       "      <td>0.000000</td>\n",
       "      <td>0.000000</td>\n",
       "      <td>0.000000</td>\n",
       "      <td>0.000000</td>\n",
       "      <td>0.003513</td>\n",
       "    </tr>\n",
       "    <tr>\n",
       "      <th>25%</th>\n",
       "      <td>0.000000</td>\n",
       "      <td>0.030028</td>\n",
       "      <td>41.000000</td>\n",
       "      <td>0.000000</td>\n",
       "      <td>0.175364</td>\n",
       "      <td>3.400000e+03</td>\n",
       "      <td>5.000000</td>\n",
       "      <td>0.000000</td>\n",
       "      <td>0.000000</td>\n",
       "      <td>0.000000</td>\n",
       "      <td>0.000000</td>\n",
       "      <td>0.011705</td>\n",
       "    </tr>\n",
       "    <tr>\n",
       "      <th>50%</th>\n",
       "      <td>0.000000</td>\n",
       "      <td>0.156133</td>\n",
       "      <td>52.000000</td>\n",
       "      <td>0.000000</td>\n",
       "      <td>0.366718</td>\n",
       "      <td>5.395000e+03</td>\n",
       "      <td>8.000000</td>\n",
       "      <td>0.000000</td>\n",
       "      <td>1.000000</td>\n",
       "      <td>0.000000</td>\n",
       "      <td>0.000000</td>\n",
       "      <td>0.023285</td>\n",
       "    </tr>\n",
       "    <tr>\n",
       "      <th>75%</th>\n",
       "      <td>0.000000</td>\n",
       "      <td>0.562909</td>\n",
       "      <td>63.000000</td>\n",
       "      <td>0.000000</td>\n",
       "      <td>0.868804</td>\n",
       "      <td>8.227000e+03</td>\n",
       "      <td>11.000000</td>\n",
       "      <td>0.000000</td>\n",
       "      <td>2.000000</td>\n",
       "      <td>0.000000</td>\n",
       "      <td>1.000000</td>\n",
       "      <td>0.067193</td>\n",
       "    </tr>\n",
       "    <tr>\n",
       "      <th>max</th>\n",
       "      <td>1.000000</td>\n",
       "      <td>50708.000000</td>\n",
       "      <td>107.000000</td>\n",
       "      <td>98.000000</td>\n",
       "      <td>329664.000000</td>\n",
       "      <td>3.008750e+06</td>\n",
       "      <td>58.000000</td>\n",
       "      <td>98.000000</td>\n",
       "      <td>54.000000</td>\n",
       "      <td>98.000000</td>\n",
       "      <td>20.000000</td>\n",
       "      <td>0.826056</td>\n",
       "    </tr>\n",
       "  </tbody>\n",
       "</table>\n",
       "</div>"
      ],
      "text/plain": [
       "       SeriousDlqin2yrs  RevolvingUtilizationOfUnsecuredLines            age  \\\n",
       "count     101503.000000                         101503.000000  101503.000000   \n",
       "mean           0.066707                              6.011143      52.258840   \n",
       "std            0.249516                            260.238389      14.764608   \n",
       "min            0.000000                              0.000000       0.000000   \n",
       "25%            0.000000                              0.030028      41.000000   \n",
       "50%            0.000000                              0.156133      52.000000   \n",
       "75%            0.000000                              0.562909      63.000000   \n",
       "max            1.000000                          50708.000000     107.000000   \n",
       "\n",
       "       NumberOfTime30-59DaysPastDueNotWorse      DebtRatio  MonthlyIncome  \\\n",
       "count                         101503.000000  101503.000000   8.140300e+04   \n",
       "mean                               0.425426     355.278121   6.635148e+03   \n",
       "std                                4.247678    2104.513168   1.378541e+04   \n",
       "min                                0.000000       0.000000   0.000000e+00   \n",
       "25%                                0.000000       0.175364   3.400000e+03   \n",
       "50%                                0.000000       0.366718   5.395000e+03   \n",
       "75%                                0.000000       0.868804   8.227000e+03   \n",
       "max                               98.000000  329664.000000   3.008750e+06   \n",
       "\n",
       "       NumberOfOpenCreditLinesAndLoans  NumberOfTimes90DaysLate  \\\n",
       "count                    101503.000000            101503.000000   \n",
       "mean                          8.443268                 0.270366   \n",
       "std                           5.134291                 4.223509   \n",
       "min                           0.000000                 0.000000   \n",
       "25%                           5.000000                 0.000000   \n",
       "50%                           8.000000                 0.000000   \n",
       "75%                          11.000000                 0.000000   \n",
       "max                          58.000000                98.000000   \n",
       "\n",
       "       NumberRealEstateLoansOrLines  NumberOfTime60-89DaysPastDueNotWorse  \\\n",
       "count                 101503.000000                         101503.000000   \n",
       "mean                       1.019448                              0.244505   \n",
       "std                        1.129580                              4.210719   \n",
       "min                        0.000000                              0.000000   \n",
       "25%                        0.000000                              0.000000   \n",
       "50%                        1.000000                              0.000000   \n",
       "75%                        2.000000                              0.000000   \n",
       "max                       54.000000                             98.000000   \n",
       "\n",
       "       NumberOfDependents    Probability  \n",
       "count        98846.000000  101503.000000  \n",
       "mean             0.757856       0.067664  \n",
       "std              1.116671       0.110445  \n",
       "min              0.000000       0.003513  \n",
       "25%              0.000000       0.011705  \n",
       "50%              0.000000       0.023285  \n",
       "75%              1.000000       0.067193  \n",
       "max             20.000000       0.826056  "
      ]
     },
     "execution_count": 10,
     "metadata": {},
     "output_type": "execute_result"
    }
   ],
   "source": [
    "dataset.describe()"
   ]
  },
  {
   "cell_type": "code",
   "execution_count": 11,
   "metadata": {
    "scrolled": true
   },
   "outputs": [
    {
     "data": {
      "text/plain": [
       "count    101503.000000\n",
       "mean          6.011143\n",
       "std         260.238389\n",
       "min           0.000000\n",
       "25%           0.030028\n",
       "50%           0.156133\n",
       "75%           0.562909\n",
       "max       50708.000000\n",
       "Name: RevolvingUtilizationOfUnsecuredLines, dtype: float64"
      ]
     },
     "execution_count": 11,
     "metadata": {},
     "output_type": "execute_result"
    }
   ],
   "source": [
    "dataset['RevolvingUtilizationOfUnsecuredLines'].describe()"
   ]
  },
  {
   "cell_type": "code",
   "execution_count": 12,
   "metadata": {},
   "outputs": [
    {
     "data": {
      "text/plain": [
       "count    101503.000000\n",
       "mean        355.278121\n",
       "std        2104.513168\n",
       "min           0.000000\n",
       "25%           0.175364\n",
       "50%           0.366718\n",
       "75%           0.868804\n",
       "max      329664.000000\n",
       "Name: DebtRatio, dtype: float64"
      ]
     },
     "execution_count": 12,
     "metadata": {},
     "output_type": "execute_result"
    }
   ],
   "source": [
    "dataset['DebtRatio'].describe()"
   ]
  },
  {
   "cell_type": "code",
   "execution_count": 13,
   "metadata": {},
   "outputs": [
    {
     "data": {
      "text/plain": [
       "count    8.140300e+04\n",
       "mean     6.635148e+03\n",
       "std      1.378541e+04\n",
       "min      0.000000e+00\n",
       "25%      3.400000e+03\n",
       "50%      5.395000e+03\n",
       "75%      8.227000e+03\n",
       "max      3.008750e+06\n",
       "Name: MonthlyIncome, dtype: float64"
      ]
     },
     "execution_count": 13,
     "metadata": {},
     "output_type": "execute_result"
    }
   ],
   "source": [
    "dataset['MonthlyIncome'].describe()"
   ]
  },
  {
   "cell_type": "code",
   "execution_count": 14,
   "metadata": {},
   "outputs": [
    {
     "data": {
      "text/plain": [
       "count    101503.000000\n",
       "mean          8.443268\n",
       "std           5.134291\n",
       "min           0.000000\n",
       "25%           5.000000\n",
       "50%           8.000000\n",
       "75%          11.000000\n",
       "max          58.000000\n",
       "Name: NumberOfOpenCreditLinesAndLoans, dtype: float64"
      ]
     },
     "execution_count": 14,
     "metadata": {},
     "output_type": "execute_result"
    }
   ],
   "source": [
    "dataset['NumberOfOpenCreditLinesAndLoans'].describe()"
   ]
  },
  {
   "cell_type": "code",
   "execution_count": 15,
   "metadata": {},
   "outputs": [
    {
     "data": {
      "text/plain": [
       "count    98846.000000\n",
       "mean         0.757856\n",
       "std          1.116671\n",
       "min          0.000000\n",
       "25%          0.000000\n",
       "50%          0.000000\n",
       "75%          1.000000\n",
       "max         20.000000\n",
       "Name: NumberOfDependents, dtype: float64"
      ]
     },
     "execution_count": 15,
     "metadata": {},
     "output_type": "execute_result"
    }
   ],
   "source": [
    "dataset['NumberOfDependents'].describe()"
   ]
  },
  {
   "cell_type": "code",
   "execution_count": 16,
   "metadata": {},
   "outputs": [
    {
     "data": {
      "text/plain": [
       "count    101503.000000\n",
       "mean          0.067664\n",
       "std           0.110445\n",
       "min           0.003513\n",
       "25%           0.011705\n",
       "50%           0.023285\n",
       "75%           0.067193\n",
       "max           0.826056\n",
       "Name: Probability, dtype: float64"
      ]
     },
     "execution_count": 16,
     "metadata": {},
     "output_type": "execute_result"
    }
   ],
   "source": [
    "dataset['Probability'].describe()"
   ]
  },
  {
   "cell_type": "code",
   "execution_count": 17,
   "metadata": {},
   "outputs": [
    {
     "data": {
      "text/plain": [
       "count    101503.000000\n",
       "mean         52.258840\n",
       "std          14.764608\n",
       "min           0.000000\n",
       "25%          41.000000\n",
       "50%          52.000000\n",
       "75%          63.000000\n",
       "max         107.000000\n",
       "Name: age, dtype: float64"
      ]
     },
     "execution_count": 17,
     "metadata": {},
     "output_type": "execute_result"
    }
   ],
   "source": [
    "dataset['age'].describe()"
   ]
  },
  {
   "cell_type": "markdown",
   "metadata": {},
   "source": [
    "***Ratio de la target***"
   ]
  },
  {
   "cell_type": "code",
   "execution_count": 18,
   "metadata": {
    "scrolled": true
   },
   "outputs": [
    {
     "data": {
      "text/plain": [
       "0    94732\n",
       "1     6771\n",
       "Name: SeriousDlqin2yrs, dtype: int64"
      ]
     },
     "execution_count": 18,
     "metadata": {},
     "output_type": "execute_result"
    }
   ],
   "source": [
    "target.value_counts()"
   ]
  },
  {
   "cell_type": "markdown",
   "metadata": {},
   "source": [
    "***Déséquilibre important dans notre Dataset : 7000 cas de défaut sur près de 95000 clients***"
   ]
  },
  {
   "cell_type": "code",
   "execution_count": 19,
   "metadata": {
    "scrolled": true
   },
   "outputs": [
    {
     "data": {
      "image/png": "[encoded data removed]",
      "text/plain": [
       "<Figure size 432x288 with 1 Axes>"
      ]
     },
     "metadata": {
      "needs_background": "light"
     },
     "output_type": "display_data"
    },
    {
     "name": "stdout",
     "output_type": "stream",
     "text": [
      "Le pourcentage de défaut de plus de 90 jours les deux dernières année est de  6.670738795897658\n",
      "Le pourcentage non défaut de plus de 90 jours les deux dernières année est de  93.32926120410234\n"
     ]
    }
   ],
   "source": [
    "sns.countplot(x=target, data=dataset,palette='hls')\n",
    "plt.show()\n",
    "\n",
    "count_defaut=len(dataset[target==1])\n",
    "count_no_defaut=len(dataset[target==0])\n",
    "\n",
    "pct_defaut=count_defaut*100/(count_defaut+count_no_defaut)\n",
    "print(\"Le pourcentage de défaut de plus de 90 jours les deux dernières année est de \", pct_defaut)\n",
    "\n",
    "pct_no_defaut=count_no_defaut*100/(count_defaut+count_no_defaut)\n",
    "print(\"Le pourcentage non défaut de plus de 90 jours les deux dernières année est de \", pct_no_defaut)"
   ]
  },
  {
   "cell_type": "markdown",
   "metadata": {},
   "source": [
    "***Nos classes sont déséquilibrées et le ratio entre les personnes en défaut de plus de 90 jours les deux dernières année est d'environ 7% dans notre échantillon*** qui représente un ratio assez faible pour notre étude\n",
    "\n",
    "Avant d'aller plus loins pour essayer d'équilibrer nos classes, faisons un peu plus d'exploration!"
   ]
  },
  {
   "cell_type": "markdown",
   "metadata": {},
   "source": [
    "***Compréhension des variables du dataset***"
   ]
  },
  {
   "cell_type": "code",
   "execution_count": 20,
   "metadata": {},
   "outputs": [
    {
     "data": {
      "text/html": [
       "<div>\n",
       "<style scoped>\n",
       "    .dataframe tbody tr th:only-of-type {\n",
       "        vertical-align: middle;\n",
       "    }\n",
       "\n",
       "    .dataframe tbody tr th {\n",
       "        vertical-align: top;\n",
       "    }\n",
       "\n",
       "    .dataframe thead th {\n",
       "        text-align: right;\n",
       "    }\n",
       "</style>\n",
       "<table border=\"1\" class=\"dataframe\">\n",
       "  <thead>\n",
       "    <tr style=\"text-align: right;\">\n",
       "      <th></th>\n",
       "      <th>RevolvingUtilizationOfUnsecuredLines</th>\n",
       "      <th>age</th>\n",
       "      <th>NumberOfTime30-59DaysPastDueNotWorse</th>\n",
       "      <th>DebtRatio</th>\n",
       "      <th>MonthlyIncome</th>\n",
       "      <th>NumberOfOpenCreditLinesAndLoans</th>\n",
       "      <th>NumberOfTimes90DaysLate</th>\n",
       "      <th>NumberRealEstateLoansOrLines</th>\n",
       "      <th>NumberOfTime60-89DaysPastDueNotWorse</th>\n",
       "      <th>NumberOfDependents</th>\n",
       "      <th>Probability</th>\n",
       "    </tr>\n",
       "    <tr>\n",
       "      <th>SeriousDlqin2yrs</th>\n",
       "      <th></th>\n",
       "      <th></th>\n",
       "      <th></th>\n",
       "      <th></th>\n",
       "      <th></th>\n",
       "      <th></th>\n",
       "      <th></th>\n",
       "      <th></th>\n",
       "      <th></th>\n",
       "      <th></th>\n",
       "      <th></th>\n",
       "    </tr>\n",
       "  </thead>\n",
       "  <tbody>\n",
       "    <tr>\n",
       "      <th>0</th>\n",
       "      <td>6.224580</td>\n",
       "      <td>52.712779</td>\n",
       "      <td>0.289258</td>\n",
       "      <td>358.808223</td>\n",
       "      <td>6711.904995</td>\n",
       "      <td>8.484620</td>\n",
       "      <td>0.144523</td>\n",
       "      <td>1.022421</td>\n",
       "      <td>0.135329</td>\n",
       "      <td>0.745832</td>\n",
       "      <td>0.067516</td>\n",
       "    </tr>\n",
       "    <tr>\n",
       "      <th>1</th>\n",
       "      <td>3.024987</td>\n",
       "      <td>45.907842</td>\n",
       "      <td>2.330527</td>\n",
       "      <td>305.889020</td>\n",
       "      <td>5597.544141</td>\n",
       "      <td>7.864717</td>\n",
       "      <td>2.031015</td>\n",
       "      <td>0.977847</td>\n",
       "      <td>1.771969</td>\n",
       "      <td>0.924523</td>\n",
       "      <td>0.069739</td>\n",
       "    </tr>\n",
       "  </tbody>\n",
       "</table>\n",
       "</div>"
      ],
      "text/plain": [
       "                  RevolvingUtilizationOfUnsecuredLines        age  \\\n",
       "SeriousDlqin2yrs                                                    \n",
       "0                                             6.224580  52.712779   \n",
       "1                                             3.024987  45.907842   \n",
       "\n",
       "                  NumberOfTime30-59DaysPastDueNotWorse   DebtRatio  \\\n",
       "SeriousDlqin2yrs                                                     \n",
       "0                                             0.289258  358.808223   \n",
       "1                                             2.330527  305.889020   \n",
       "\n",
       "                  MonthlyIncome  NumberOfOpenCreditLinesAndLoans  \\\n",
       "SeriousDlqin2yrs                                                   \n",
       "0                   6711.904995                         8.484620   \n",
       "1                   5597.544141                         7.864717   \n",
       "\n",
       "                  NumberOfTimes90DaysLate  NumberRealEstateLoansOrLines  \\\n",
       "SeriousDlqin2yrs                                                          \n",
       "0                                0.144523                      1.022421   \n",
       "1                                2.031015                      0.977847   \n",
       "\n",
       "                  NumberOfTime60-89DaysPastDueNotWorse  NumberOfDependents  \\\n",
       "SeriousDlqin2yrs                                                             \n",
       "0                                             0.135329            0.745832   \n",
       "1                                             1.771969            0.924523   \n",
       "\n",
       "                  Probability  \n",
       "SeriousDlqin2yrs               \n",
       "0                    0.067516  \n",
       "1                    0.069739  "
      ]
     },
     "execution_count": 20,
     "metadata": {},
     "output_type": "execute_result"
    }
   ],
   "source": [
    "dataset.groupby(target).mean()"
   ]
  },
  {
   "cell_type": "markdown",
   "metadata": {},
   "source": [
    "A première vue, on remarque :\n",
    "- les \"default\" ont en moyenne 45.90 ans et plus jeunes que ceux \"no_default\"\n",
    "- Le ratio \"defaut\" ont un petit RevolvingUtilizationOfUnsecuredLines\n",
    "- Il n'y a pas de différence de probabilité (score interne) entre les deux catégiries\n"
   ]
  },
  {
   "cell_type": "markdown",
   "metadata": {},
   "source": [
    "**Datavisualisation des relations avec la target**"
   ]
  },
  {
   "cell_type": "code",
   "execution_count": 21,
   "metadata": {
    "scrolled": true
   },
   "outputs": [
    {
     "data": {
      "text/plain": [
       "RevolvingUtilizationOfUnsecuredLines       6.011143\n",
       "age                                       52.258840\n",
       "NumberOfTime30-59DaysPastDueNotWorse       0.425426\n",
       "DebtRatio                                355.278121\n",
       "MonthlyIncome                           6635.148348\n",
       "NumberOfOpenCreditLinesAndLoans            8.443268\n",
       "NumberOfTimes90DaysLate                    0.270366\n",
       "NumberRealEstateLoansOrLines               1.019448\n",
       "NumberOfTime60-89DaysPastDueNotWorse       0.244505\n",
       "NumberOfDependents                         0.757856\n",
       "Probability                                0.067664\n",
       "dtype: float64"
      ]
     },
     "execution_count": 21,
     "metadata": {},
     "output_type": "execute_result"
    }
   ],
   "source": [
    " X = dataset.iloc[:,1:]\n",
    "X.mean()"
   ]
  },
  {
   "cell_type": "code",
   "execution_count": 22,
   "metadata": {},
   "outputs": [
    {
     "data": {
      "text/plain": [
       "0    1\n",
       "1    0\n",
       "2    0\n",
       "3    0\n",
       "4    0\n",
       "Name: SeriousDlqin2yrs, dtype: int64"
      ]
     },
     "execution_count": 22,
     "metadata": {},
     "output_type": "execute_result"
    }
   ],
   "source": [
    "y = dataset.iloc[:,0]\n",
    "y.head()"
   ]
  },
  {
   "cell_type": "markdown",
   "metadata": {},
   "source": [
    "Fonction plot_data"
   ]
  },
  {
   "cell_type": "code",
   "execution_count": 23,
   "metadata": {},
   "outputs": [],
   "source": [
    "# Préparation du dataset\n",
    "def prep_data(df: pd.DataFrame) -> (np.ndarray, np.ndarray):\n",
    "    \"\"\"\n",
    "    Convertir le dataset en deux variables\n",
    "    X: data columns\n",
    "    y: target\n",
    "    \"\"\"\n",
    "    X = dataset.iloc[:,1:].values\n",
    "    y = dataset.iloc[:,0].values\n",
    "    return X, y"
   ]
  },
  {
   "cell_type": "code",
   "execution_count": 24,
   "metadata": {},
   "outputs": [],
   "source": [
    "# Definir la fonction pour créer le scatter plot de notre dataset\n",
    "def plot_data(X: np.ndarray, y: np.ndarray):\n",
    "    plt.scatter(X[y == 0, 0], X[y == 0, 1], label=\"no_default #0\", alpha=0.5, linewidth=0.15)\n",
    "    plt.scatter(X[y == 1, 0], X[y == 1, 1], label=\"default #1\", alpha=0.5, linewidth=0.15, c='r')\n",
    "    plt.legend()\n",
    "    return plt.show()"
   ]
  },
  {
   "cell_type": "code",
   "execution_count": 25,
   "metadata": {},
   "outputs": [],
   "source": [
    "# Créer les variables X et y à partir de la fonction prep_data\n",
    "X, y = prep_data(dataset)"
   ]
  },
  {
   "cell_type": "code",
   "execution_count": 26,
   "metadata": {},
   "outputs": [
    {
     "data": {
      "image/png": "[encoded data removed]",
      "text/plain": [
       "<Figure size 432x288 with 1 Axes>"
      ]
     },
     "metadata": {
      "needs_background": "light"
     },
     "output_type": "display_data"
    }
   ],
   "source": [
    "# Tracez nos données en exécutant notre fonction de données sur X et y\n",
    "plot_data(X, y)"
   ]
  },
  {
   "cell_type": "markdown",
   "metadata": {},
   "source": [
    "***Corrélation entre les variables et la target***"
   ]
  },
  {
   "cell_type": "code",
   "execution_count": 27,
   "metadata": {},
   "outputs": [
    {
     "data": {
      "text/plain": [
       "<seaborn.matrix.ClusterGrid at 0x2b256d18d88>"
      ]
     },
     "execution_count": 27,
     "metadata": {},
     "output_type": "execute_result"
    },
    {
     "data": {
      "image/png": "[encoded data removed]",
      "text/plain": [
       "<Figure size 720x720 with 4 Axes>"
      ]
     },
     "metadata": {
      "needs_background": "light"
     },
     "output_type": "display_data"
    }
   ],
   "source": [
    "sns.clustermap(dataset.corr(), cmap=\"magma\", vmin=0)"
   ]
  },
  {
   "cell_type": "markdown",
   "metadata": {},
   "source": [
    "Il existe une co-corrélation importantes entre plusieurs variables dépendantes:\n",
    "- NumberOfTime 30-59, 60-89 et 90-+\n",
    "Pour notre analyse, nous garderont celle qui à la plus forte corrélation avec la target soit NumberOfTime30-59DaysPastDueNotWorse. Cela montre que les personnes qui commencent a avoir des incidents sont les plus susceptibles d'être en défaut dans les années à venir"
   ]
  },
  {
   "cell_type": "code",
   "execution_count": 28,
   "metadata": {},
   "outputs": [
    {
     "data": {
      "text/plain": [
       "age                                    -0.115001\n",
       "NumberOfOpenCreditLinesAndLoans        -0.030126\n",
       "MonthlyIncome                          -0.020472\n",
       "NumberRealEstateLoansOrLines           -0.009846\n",
       "DebtRatio                              -0.006274\n",
       "RevolvingUtilizationOfUnsecuredLines   -0.003068\n",
       "Probability                             0.005021\n",
       "NumberOfDependents                      0.040088\n",
       "NumberOfTime60-89DaysPastDueNotWorse    0.096983\n",
       "NumberOfTimes90DaysLate                 0.111450\n",
       "NumberOfTime30-59DaysPastDueNotWorse    0.119908\n",
       "SeriousDlqin2yrs                        1.000000\n",
       "Name: SeriousDlqin2yrs, dtype: float64"
      ]
     },
     "execution_count": 28,
     "metadata": {},
     "output_type": "execute_result"
    }
   ],
   "source": [
    "dataset.corr()[\"SeriousDlqin2yrs\"].sort_values()"
   ]
  },
  {
   "cell_type": "markdown",
   "metadata": {},
   "source": [
    "----------------"
   ]
  },
  {
   "cell_type": "markdown",
   "metadata": {},
   "source": [
    "# III/ PRE-PROCESSING\n",
    "\n",
    "## Objectif: transformer le data pour le mettre dans un format propice au machine learning"
   ]
  },
  {
   "cell_type": "markdown",
   "metadata": {},
   "source": [
    "## Gestion des valeurs manquante avec IMPUTE"
   ]
  },
  {
   "cell_type": "code",
   "execution_count": 29,
   "metadata": {},
   "outputs": [],
   "source": [
    "#Nous pouvons changer les valeurs manquantes pour l'ensemble du dataset \n",
    "## en leurs moyenne des colonnes individuelles\n",
    "import numpy as np\n",
    "from sklearn.impute import SimpleImputer\n",
    "\n",
    "imp_mean = SimpleImputer(missing_values=np.nan, strategy='mean')\n",
    "imp_mean.fit(dataset)\n",
    "\n",
    "# Intégration des données entrainés dans notre dataset\n",
    "dataset = pd.DataFrame(imp_mean.transform(dataset),columns=dataset.columns)"
   ]
  },
  {
   "cell_type": "code",
   "execution_count": 30,
   "metadata": {},
   "outputs": [],
   "source": [
    "X, y = prep_data(dataset)"
   ]
  },
  {
   "cell_type": "markdown",
   "metadata": {},
   "source": [
    "## Normalisation du dataset"
   ]
  },
  {
   "cell_type": "markdown",
   "metadata": {},
   "source": [
    "***Feature scaling - Normalisation***"
   ]
  },
  {
   "cell_type": "code",
   "execution_count": 31,
   "metadata": {},
   "outputs": [],
   "source": [
    "# Nous travaillerons avec les variables transformées\n",
    "# Normalisation des nouvelles variables explicatives\n",
    "## Normalisation de X\n",
    "\n",
    "from sklearn.preprocessing import StandardScaler\n",
    "sc_X = StandardScaler()\n",
    "X = sc_X.fit_transform(X)"
   ]
  },
  {
   "cell_type": "markdown",
   "metadata": {},
   "source": [
    "## Décomposition du dataset en train et en test & Modelisation"
   ]
  },
  {
   "cell_type": "markdown",
   "metadata": {},
   "source": [
    "***Séparation du dataset en variable explicative et target***\n",
    "***Dataset non équilibré et pris en l'état***"
   ]
  },
  {
   "cell_type": "code",
   "execution_count": 32,
   "metadata": {},
   "outputs": [],
   "source": [
    "# Division du dataset en train et un test set \n",
    "from sklearn.model_selection import train_test_split\n",
    "\n",
    "X_train, X_test, y_train, y_test = train_test_split(X, y, test_size = 0.2, stratify=y, random_state=10)"
   ]
  },
  {
   "cell_type": "markdown",
   "metadata": {},
   "source": [
    "***Fonction de train et de prédiction***"
   ]
  },
  {
   "cell_type": "code",
   "execution_count": 33,
   "metadata": {},
   "outputs": [],
   "source": [
    "# Fonction de training du model avec les meilleurs paramatères\n",
    "def train_model(X_train, y_train):\n",
    "    # Split du train pour 5 validation\n",
    "    sss = StratifiedShuffleSplit(n_splits=5, random_state=0)\n",
    "    # Logistic Regression\n",
    "    model = LogisticRegression(solver='liblinear')\n",
    "    # Random grid search on hyperparameters\n",
    "    params = {\"penalty\": ['l1', 'l2'], 'C': [0.1, 1, 10, 100]}\n",
    "    '''\n",
    "    Pour optimiser le score de précision de rappel (score de précision moyen)\n",
    "    AP résume une courbe précision-rappel comme la moyenne pondérée des précisions \n",
    "    atteint à chaque seuil, avec l'augmentation du rappel par rapport à la \n",
    "    précédente seuil utilisé comme poids\n",
    "    '''\n",
    "    scoring = {'ave_prec': 'average_precision'}\n",
    "    grid_search = RandomizedSearchCV(model, \n",
    "                                  params, \n",
    "                                  scoring=scoring,\n",
    "                                  random_state= 50,\n",
    "                                  refit='ave_prec', \n",
    "                                  cv=sss,\n",
    "                                  n_iter=6,\n",
    "                                  verbose=1,\n",
    "                                  n_jobs=-1)\n",
    "    \n",
    "   \n",
    "    lr_fit = grid_search.fit(X_train, y_train)\n",
    "    lr_best = grid_search.best_estimator_\n",
    "\n",
    "    print('Best parameters for model: {}'.format(lr_fit.best_params_))\n",
    "    print('Best precision-recall socre from training: {}'.format(lr_fit.best_score_))\n",
    "    return lr_best"
   ]
  },
  {
   "cell_type": "code",
   "execution_count": 34,
   "metadata": {},
   "outputs": [],
   "source": [
    "# Fonction de prédiction\n",
    "def predict_test(model, X_test, y_test):\n",
    "    y_test_pred = model.predict(X_test)\n",
    "    conf_matrix=confusion_matrix(y_test, y_test_pred)\n",
    "    rocauc_score=roc_auc_score(y_test, y_test_pred) \n",
    "    classif_report=classification_report(y_test, y_test_pred)\n",
    "    \n",
    "\n",
    "    print(conf_matrix)\n",
    "    print(rocauc_score)\n",
    "    print(classif_report)\n",
    "    sns.heatmap(conf_matrix, annot=True,fmt=\"d\", annot_kws={\"size\": 16})\n",
    "    \n",
    "    # Plot courbe precision-recall\n",
    "    # Calcul precision-recall pour les différents seuil de probabilite\n",
    "    precision, recall, _ = precision_recall_curve(y_test, model.decision_function(X_test))\n",
    "    plt.figure(figsize=(12,6))\n",
    "    plt.plot(recall, precision, c='b' )\n",
    "    plt.xlim([-0.05,1.05])\n",
    "    plt.ylim([-0.05,1.05])\n",
    "    plt.xlabel('Recall')\n",
    "    plt.ylabel('Precision')\n",
    "    pr_score = average_precision_score(y_test, model.decision_function(X_test))\n",
    "    plt.title('Test PR curve: \\n Average Precision-Recall Score ={0:0.2f}'.format(pr_score, fontsize=14))\n",
    "    plt.grid(b=True, which='major', c='g', linestyle='-', alpha=0.2)\n",
    "    plt.show()\n",
    "    \n",
    "    \n",
    "    # Plot ROC AUC\n",
    "    logit_roc_auc = roc_auc_score(y_test, y_test_pred)\n",
    "    fp, tp, thresholds = roc_curve(y_test, model.predict_proba(X_test)[:,1])\n",
    "    plt.figure(figsize=(12,6))\n",
    "    plt.plot(fp, tp, label='Regression Logistique (area = %0.2f)' % logit_roc_auc)\n",
    "    plt.plot([0, 1], [0, 1],'r--')\n",
    "    plt.xlim([0.0, 1.0])\n",
    "    plt.ylim([0.0, 1.05])\n",
    "    plt.xlabel('Faux Positive')\n",
    "    plt.ylabel('Vrai Positive')\n",
    "    plt.title('ROC Curve')\n",
    "    plt.legend(loc=\"lower right\")\n",
    "    plt.savefig('Log_ROC')\n",
    "    plt.show()"
   ]
  },
  {
   "cell_type": "code",
   "execution_count": 35,
   "metadata": {},
   "outputs": [],
   "source": [
    "#Fonction d'ajustement du poids de l'algorithme de ML\n",
    "def get_model_results(X_train: np.ndarray, y_train: np.ndarray,\n",
    "                      X_test: np.ndarray, y_test: np.ndarray, model):\n",
    "\n",
    "    model.fit(X_train, y_train)\n",
    "    predicted = model.predict(X_test)\n",
    "    \n",
    "    try:\n",
    "        probs = model.predict_proba(X_test)\n",
    "        print('ROC Score:')\n",
    "        print(roc_auc_score(y_test, probs[:,1]))\n",
    "    except AttributeError:\n",
    "        pass\n",
    "\n",
    "    # Print the ROC curve, classification report and confusion matrix\n",
    "    print('\\nClassification Report:')\n",
    "    print(classification_report(y_test, predicted))\n",
    "    print('\\nConfusion Matrix:')\n",
    "    print(confusion_matrix(y_test, predicted))"
   ]
  },
  {
   "cell_type": "markdown",
   "metadata": {},
   "source": [
    "## 1/ Prédiction du modèle sans OVERSAMPLING"
   ]
  },
  {
   "cell_type": "code",
   "execution_count": 36,
   "metadata": {},
   "outputs": [
    {
     "name": "stdout",
     "output_type": "stream",
     "text": [
      "Fitting 5 folds for each of 6 candidates, totalling 30 fits\n"
     ]
    },
    {
     "name": "stderr",
     "output_type": "stream",
     "text": [
      "[Parallel(n_jobs=-1)]: Using backend LokyBackend with 8 concurrent workers.\n",
      "[Parallel(n_jobs=-1)]: Done  30 out of  30 | elapsed:  1.5min finished\n"
     ]
    },
    {
     "name": "stdout",
     "output_type": "stream",
     "text": [
      "Best parameters for model: {'penalty': 'l1', 'C': 100}\n",
      "Best precision-recall socre from training: 0.23977858871630953\n",
      "[[18906    41]\n",
      " [ 1301    53]]\n",
      "0.5184896741037485\n",
      "              precision    recall  f1-score   support\n",
      "\n",
      "         0.0       0.94      1.00      0.97     18947\n",
      "         1.0       0.56      0.04      0.07      1354\n",
      "\n",
      "    accuracy                           0.93     20301\n",
      "   macro avg       0.75      0.52      0.52     20301\n",
      "weighted avg       0.91      0.93      0.91     20301\n",
      "\n"
     ]
    },
    {
     "data": {
      "image/png": "[encoded data removed]",
      "text/plain": [
       "<Figure size 432x288 with 2 Axes>"
      ]
     },
     "metadata": {
      "needs_background": "light"
     },
     "output_type": "display_data"
    },
    {
     "data": {
      "image/png": "[encoded data removed]",
      "text/plain": [
       "<Figure size 864x432 with 1 Axes>"
      ]
     },
     "metadata": {
      "needs_background": "light"
     },
     "output_type": "display_data"
    },
    {
     "data": {
      "image/png": "[encoded data removed]",
      "text/plain": [
       "<Figure size 864x432 with 1 Axes>"
      ]
     },
     "metadata": {
      "needs_background": "light"
     },
     "output_type": "display_data"
    }
   ],
   "source": [
    "#Train and test dataset déséquilibré\n",
    "model_regular = train_model(X_train, y_train)\n",
    "predict_test(model_regular, X_test, y_test)"
   ]
  },
  {
   "cell_type": "markdown",
   "metadata": {},
   "source": [
    "***Ce modèle ne permet pas de prédire de la meilleure des manières les difficultés financières de clients sous deux années vu le nombre important de faux négatif qui est ici de 1301 malgré l'accuracy et le recall de plus de 90%***"
   ]
  },
  {
   "cell_type": "code",
   "execution_count": 40,
   "metadata": {},
   "outputs": [
    {
     "name": "stdout",
     "output_type": "stream",
     "text": [
      "ROC Score:\n",
      "0.8544904159694785\n",
      "\n",
      "Classification Report:\n",
      "              precision    recall  f1-score   support\n",
      "\n",
      "         0.0       0.97      0.85      0.91     18947\n",
      "         1.0       0.25      0.69      0.37      1354\n",
      "\n",
      "    accuracy                           0.84     20301\n",
      "   macro avg       0.61      0.77      0.64     20301\n",
      "weighted avg       0.93      0.84      0.87     20301\n",
      "\n",
      "\n",
      "Confusion Matrix:\n",
      "[[16160  2787]\n",
      " [  422   932]]\n"
     ]
    }
   ],
   "source": [
    "# Ajustement du poids de l'algo de ML sans oversampling RandomForestClassifier\n",
    "model_reg = RandomForestClassifier(bootstrap=True,\n",
    "                               class_weight={0:1, 1:12},\n",
    "                               criterion='entropy',\n",
    "                               # Change depth of model\n",
    "                               max_depth=10,\n",
    "                               # Change the number of samples in leaf nodes\n",
    "                               min_samples_leaf=10, \n",
    "                               # Change the number of trees to use\n",
    "                               n_estimators=20,\n",
    "                               n_jobs=-1,\n",
    "                               random_state=5)\n",
    "\n",
    "# Run the function get_model_results\n",
    "get_model_results(X_train, y_train, X_test, y_test, model_reg)"
   ]
  },
  {
   "cell_type": "markdown",
   "metadata": {},
   "source": [
    "***La précision de ce modèle RandomForestClassifier est meilleure que le premier modèle même si l'accuracy et le recall est moindre car nous avons un nombre moins important de FN***\n",
    "\n",
    "*En raison des enregistrements de défaut très limités dans l'ensemble de données de training, notre modèle ne peut détecter que 3% des défauts, tandis que la précision est très élevée en raison du nombre de personnes qui ne sont pas en défaut et qui dominent l'ensemble de données.*"
   ]
  },
  {
   "cell_type": "markdown",
   "metadata": {},
   "source": [
    "## 2/ Dataset SMOTE OVERSAMPLING"
   ]
  },
  {
   "cell_type": "markdown",
   "metadata": {},
   "source": [
    "*le SMOTE (Synthetic Minority Over-sampling Technique) permet d'augmenter le nombre de variable en défaut et minoritaire de notre dataset en produisant des exemples synthétiques. Après avoir appliqué la technique SMOTE, le nombre d'instances de défaut dans notre ensemble de données de train est le même que le nombre d'instances normales soit 75785*"
   ]
  },
  {
   "cell_type": "code",
   "execution_count": 41,
   "metadata": {},
   "outputs": [
    {
     "name": "stdout",
     "output_type": "stream",
     "text": [
      "Fitting 5 folds for each of 6 candidates, totalling 30 fits\n"
     ]
    },
    {
     "name": "stderr",
     "output_type": "stream",
     "text": [
      "[Parallel(n_jobs=-1)]: Using backend LokyBackend with 8 concurrent workers.\n",
      "[Parallel(n_jobs=-1)]: Done  30 out of  30 | elapsed:   10.0s finished\n"
     ]
    },
    {
     "name": "stdout",
     "output_type": "stream",
     "text": [
      "Best parameters for model: {'penalty': 'l1', 'C': 1}\n",
      "Best precision-recall socre from training: 0.7802548898534774\n",
      "[[14177  4770]\n",
      " [  467   887]]\n",
      "0.7016705582913825\n",
      "              precision    recall  f1-score   support\n",
      "\n",
      "         0.0       0.97      0.75      0.84     18947\n",
      "         1.0       0.16      0.66      0.25      1354\n",
      "\n",
      "    accuracy                           0.74     20301\n",
      "   macro avg       0.56      0.70      0.55     20301\n",
      "weighted avg       0.91      0.74      0.80     20301\n",
      "\n"
     ]
    },
    {
     "data": {
      "image/png": "[encoded data removed]",
      "text/plain": [
       "<Figure size 432x288 with 2 Axes>"
      ]
     },
     "metadata": {
      "needs_background": "light"
     },
     "output_type": "display_data"
    },
    {
     "data": {
      "image/png": "[encoded data removed]",
      "text/plain": [
       "<Figure size 864x432 with 1 Axes>"
      ]
     },
     "metadata": {
      "needs_background": "light"
     },
     "output_type": "display_data"
    },
    {
     "data": {
      "image/png": "[encoded data removed]",
      "text/plain": [
       "<Figure size 864x432 with 1 Axes>"
      ]
     },
     "metadata": {
      "needs_background": "light"
     },
     "output_type": "display_data"
    }
   ],
   "source": [
    "# SMOTE (Synthetic Minority Over-sampling Technique) \n",
    "X_train_smote, y_train_smote = SMOTE(sampling_strategy='minority').fit_resample(X_train, y_train)\n",
    "model_smote = train_model(X_train_smote, y_train_smote)\n",
    "predict_test(model_smote, X_test, y_test)"
   ]
  },
  {
   "cell_type": "markdown",
   "metadata": {},
   "source": [
    "***Pour ce modèle rééchantillonné, En raison des enregistrements de défaut très limités dans l'ensemble de données de training, notre modèle permet d'obtenir d'excellente valeurs : accuracy, recall, F-score et une nombre de FN acceptable***\n"
   ]
  }
 ],
 "metadata": {
  "kernelspec": {
   "display_name": "Python 3",
   "language": "python",
   "name": "python3"
  },
  "language_info": {
   "codemirror_mode": {
    "name": "ipython",
    "version": 3
   },
   "file_extension": ".py",
   "mimetype": "text/x-python",
   "name": "python",
   "nbconvert_exporter": "python",
   "pygments_lexer": "ipython3",
   "version": "3.7.6"
  }
 },
 "nbformat": 4,
 "nbformat_minor": 4
}
